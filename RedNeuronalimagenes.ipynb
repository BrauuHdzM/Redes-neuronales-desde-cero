{
  "nbformat": 4,
  "nbformat_minor": 0,
  "metadata": {
    "colab": {
      "provenance": [],
      "authorship_tag": "ABX9TyNHIctu81Di9gtmNuvkaBpS",
      "include_colab_link": true
    },
    "kernelspec": {
      "name": "python3",
      "display_name": "Python 3"
    },
    "language_info": {
      "name": "python"
    }
  },
  "cells": [
    {
      "cell_type": "markdown",
      "metadata": {
        "id": "view-in-github",
        "colab_type": "text"
      },
      "source": [
        "<a href=\"https://colab.research.google.com/github/BrauuHdzM/Redes-neuronales-desde-cero/blob/master/RedNeuronalimagenes.ipynb\" target=\"_parent\"><img src=\"https://colab.research.google.com/assets/colab-badge.svg\" alt=\"Open In Colab\"/></a>"
      ]
    },
    {
      "cell_type": "code",
      "execution_count": null,
      "metadata": {
        "id": "BTXnD97kaJkr"
      },
      "outputs": [],
      "source": [
        "from PIL import Image\n",
        "from numpy.linalg import inv\n",
        "import scipy.special\n",
        "from numpy import *\n",
        "import numpy as np\n",
        "import matplotlib.pyplot as plt"
      ]
    },
    {
      "cell_type": "code",
      "source": [
        "from PIL import Image\n",
        "from numpy.linalg import inv\n",
        "import scipy.special\n",
        "from numpy import *\n",
        "import numpy as np\n",
        "import matplotlib.pyplot as plt\n",
        "\n",
        "def convert(nombre):\n",
        "    f = Image.open(nombre)\n",
        "    new_img = f.resize((30,30))\n",
        "    rgb_im = new_img.convert('RGB')\n",
        "    width, height = rgb_im.size\n",
        "    colors = []\n",
        "\n",
        "    for x in range(0, width):\n",
        "        for y in range(0, height):\n",
        "            r, g, b = rgb_im.getpixel((x, y))\n",
        "            colors.append([r, g, b])\n",
        "\n",
        "    tam = len(colors)\n",
        "    patron = np.array(zeros((tam, 3), float))\n",
        "    for i in range(0, tam):\n",
        "        patron[i, :] = [float(color) / 255.0 for color in colors[i]]\n",
        "\n",
        "    return patron.reshape(-1, 1)\n",
        "\n",
        "# uno=convert('/content/uno1.png')\n",
        "# uno_=convert('/content/uno2.png')\n",
        "# cero=convert('/content/cero1.png')\n",
        "# cero_=convert('/content/cero2.png')\n",
        "# unoprueba=convert('/content/unoprueba.png')\n",
        "# ceroprueba=convert('/content/ceroprueba.png')\n",
        "# sieteprueba=convert('/content/sieteprueba.png')\n",
        "# ochoprueba=convert('/content/ochoprueba.png')\n",
        "\n",
        "triangulo1= convert('/content/triangulo1.png')\n",
        "cuadrado1=convert('/content/cuadrado1.png')\n",
        "triangulo2= convert('/content/triangulo2.png')\n",
        "cuadrado2=convert('/content/cuadrado2.png')\n",
        "triangulo3= convert('/content/triangulo3.png')\n",
        "cuadrado3=convert('/content/cuadrado3.png')\n",
        "trianguloprueba= convert('/content/trianguloprueba1.png')\n",
        "cuadradoprueba=convert('/content/cuadradoprueba.png')\n",
        "\n",
        "def sigmoid(x):\n",
        "    return scipy.special.expit(x)\n",
        "\n",
        "a=0.1\n",
        "te=900*3\n",
        "ti=10\n",
        "tf=1\n",
        "\n",
        "O=np.ones((tf,1))\n",
        "O2=np.zeros((tf,1))\n",
        "\n",
        "w1=np.random.rand(ti,te)\n",
        "w2=np.random.rand(tf,ti)\n",
        "\n",
        "lamb=0.01\n",
        "def entrena(w1, w2, En, O):\n",
        "    Si = sigmoid(np.dot(w1, En))\n",
        "    S = sigmoid(np.dot(w2, Si))\n",
        "    e = O - S\n",
        "    ei = np.dot(w2.T, e)\n",
        "    w2 += a*(np.dot(e*S*(1.-S), Si.T) - lamb * w2)\n",
        "    w1 += a*(np.dot(ei*Si*(1.-Si), En.T) - lamb * w1)\n",
        "    return w1, w2, np.mean(e)\n",
        "\n",
        "def clasifica(w1,w2,En):\n",
        "    Si=sigmoid(np.dot(w1,En))\n",
        "    S=sigmoid(np.dot(w2,Si))\n",
        "    return S\n",
        "\n",
        "lis_error=[]\n",
        "for i in range(0,6000):\n",
        "    w1,w2,error=entrena(w1,w2,triangulo1,O)\n",
        "    w1,w2,error=entrena(w1,w2,cuadrado1,O2)\n",
        "    w1,w2,error=entrena(w1,w2,triangulo2,O)\n",
        "    w1,w2,error=entrena(w1,w2,cuadrado2,O2)\n",
        "    w1,w2,error=entrena(w1,w2,triangulo3,O)\n",
        "    w1,w2,error=entrena(w1,w2,cuadrado3,O2)\n",
        "    lis_error.append(abs(error))\n",
        "\n",
        "print(clasifica(w1,w2,trianguloprueba))\n",
        "print(clasifica(w1,w2,cuadradoprueba))\n",
        "plt.plot(lis_error)\n",
        "plt.show()\n"
      ],
      "metadata": {
        "colab": {
          "base_uri": "https://localhost:8080/",
          "height": 466
        },
        "id": "xzUlMPPtaS22",
        "outputId": "f023b583-331b-4c88-a73a-866e077542bc"
      },
      "execution_count": null,
      "outputs": [
        {
          "output_type": "stream",
          "name": "stdout",
          "text": [
            "[[0.87945303]]\n",
            "[[0.08291499]]\n"
          ]
        },
        {
          "output_type": "display_data",
          "data": {
            "text/plain": [
              "<Figure size 640x480 with 1 Axes>"
            ],
            "image/png": "[encoded data removed]"
          },
          "metadata": {}
        }
      ]
    }
  ]
}